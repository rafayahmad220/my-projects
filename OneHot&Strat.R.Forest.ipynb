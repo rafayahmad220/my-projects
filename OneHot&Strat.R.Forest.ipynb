{
 "cells": [
  {
   "cell_type": "code",
   "execution_count": 1,
   "metadata": {},
   "outputs": [],
   "source": [
    "import pandas as pd\n",
    "import numpy as np\n",
    "from sklearn.ensemble import RandomForestRegressor\n",
    "from sklearn.model_selection import train_test_split, StratifiedShuffleSplit\n",
    "from sklearn.metrics import mean_absolute_error, mean_absolute_percentage_error, r2_score\n",
    "from sklearn.impute import SimpleImputer"
   ]
  },
  {
   "cell_type": "code",
   "execution_count": 2,
   "metadata": {},
   "outputs": [
    {
     "name": "stderr",
     "output_type": "stream",
     "text": [
      "C:\\Users\\AbdulRafay\\AppData\\Local\\Temp\\ipykernel_3440\\3967702544.py:2: DtypeWarning: Columns (21) have mixed types. Specify dtype option on import or set low_memory=False.\n",
      "  data = pd.read_csv('SampleFile2.csv')\n"
     ]
    }
   ],
   "source": [
    "# Load the dataset\n",
    "data = pd.read_csv('SampleFile2.csv')\n",
    "\n",
    "# Convert the date column to datetime format\n",
    "data['Date'] = pd.to_datetime(data['Date'])\n",
    "\n",
    "# Filter the data to include only the previous two years before 04-29-2024\n",
    "cutoff_date = pd.Timestamp('2024-04-29')\n",
    "start_date = cutoff_date - pd.DateOffset(years=2)\n",
    "data = data[(data['Date'] >= start_date) & (data['Date'] < cutoff_date)]"
   ]
  },
  {
   "cell_type": "code",
   "execution_count": 3,
   "metadata": {},
   "outputs": [],
   "source": [
    "# Drop columns that are not useful for the model\n",
    "columns_to_drop = ['N+C', 'Region', 'Channel', 'LI', 'Category', 'Class', 'Sub-Class', 'Season', \n",
    "                   'Color', 'Size', 'Size1', 'Color1', 'Discount Tag', 'Fiscal Year', 'Invoice Date']\n"
   ]
  },
  {
   "cell_type": "code",
   "execution_count": 4,
   "metadata": {},
   "outputs": [],
   "source": [
    "# Remove rows with non-numeric 'Sales Amount'\n",
    "data = data[pd.to_numeric(data['Sales Amount'], errors='coerce').notnull()]\n",
    "\n",
    "# Drop the specified columns\n",
    "data = data.drop(columns=columns_to_drop)"
   ]
  },
  {
   "cell_type": "code",
   "execution_count": 5,
   "metadata": {},
   "outputs": [],
   "source": [
    "# Extract time-based features\n",
    "data['Year'] = data['Date'].dt.year\n",
    "data['Month'] = data['Date'].dt.month\n",
    "data['Day'] = data['Date'].dt.day\n",
    "data['DayOfWeek'] = data['Date'].dt.dayofweek\n",
    "data['WeekOfYear'] = data['Date'].dt.isocalendar().week\n"
   ]
  },
  {
   "cell_type": "code",
   "execution_count": 8,
   "metadata": {},
   "outputs": [],
   "source": [
    "# Remove rare 'Product Name' categories with only one instance\n",
    "product_name_counts = data['Product Name'].value_counts()\n",
    "rare_product_names = product_name_counts[product_name_counts == 1].index\n",
    "data = data[~data['Product Name'].isin(rare_product_names)]"
   ]
  },
  {
   "cell_type": "code",
   "execution_count": 21,
   "metadata": {},
   "outputs": [],
   "source": [
    "# Save original 'Product Name' and 'Shop' for analysis later\n",
    "original_product_name = data['Product Name']\n",
    "original_shop = data['Shop']\n"
   ]
  },
  {
   "cell_type": "code",
   "execution_count": 9,
   "metadata": {},
   "outputs": [],
   "source": [
    "# Define features and target\n",
    "target = 'Sales Amount'\n",
    "features = [col for col in data.columns if col != target]"
   ]
  },
  {
   "cell_type": "code",
   "execution_count": 10,
   "metadata": {},
   "outputs": [],
   "source": [
    "# Split the data into train and test sets stratified by 'Product Name'\n",
    "stratified_split = StratifiedShuffleSplit(n_splits=1, test_size=0.2, random_state=42)\n",
    "train_idx, test_idx = next(stratified_split.split(data, data['Product Name']))\n",
    "\n",
    "train_data = data.iloc[train_idx]\n",
    "test_data = data.iloc[test_idx]"
   ]
  },
  {
   "cell_type": "code",
   "execution_count": 11,
   "metadata": {},
   "outputs": [],
   "source": [
    "# One-hot encode important categorical columns\n",
    "important_categorical_columns = ['Product Name', 'Shop', 'Gender']\n",
    "train_data = pd.get_dummies(train_data, columns=important_categorical_columns)\n",
    "test_data = pd.get_dummies(test_data, columns=important_categorical_columns)"
   ]
  },
  {
   "cell_type": "code",
   "execution_count": 12,
   "metadata": {},
   "outputs": [],
   "source": [
    "# Ensure both train and test sets have the same columns after encoding\n",
    "train_data, test_data = train_data.align(test_data, join='outer', axis=1, fill_value=0)\n"
   ]
  },
  {
   "cell_type": "code",
   "execution_count": 13,
   "metadata": {},
   "outputs": [],
   "source": [
    "# Define features and target for training and testing\n",
    "X_train = train_data.drop(columns=['Date', target])\n",
    "y_train = train_data[target]\n",
    "X_test = test_data.drop(columns=['Date', target])\n",
    "y_test = test_data[target]"
   ]
  },
  {
   "cell_type": "code",
   "execution_count": 14,
   "metadata": {},
   "outputs": [],
   "source": [
    "# Handle missing values\n",
    "imputer = SimpleImputer(strategy='mean')\n",
    "X_train = imputer.fit_transform(X_train)\n",
    "X_test = imputer.transform(X_test)"
   ]
  },
  {
   "cell_type": "code",
   "execution_count": 15,
   "metadata": {},
   "outputs": [],
   "source": [
    "# Ensure there is enough data to train the model\n",
    "if len(X_train) == 0 or len(X_test) == 0:\n",
    "    raise ValueError(\"Insufficient data to train the model. Adjust the train/test split or check your dataset.\")\n"
   ]
  },
  {
   "cell_type": "code",
   "execution_count": 16,
   "metadata": {},
   "outputs": [
    {
     "data": {
      "text/html": [
       "<style>#sk-container-id-1 {color: black;background-color: white;}#sk-container-id-1 pre{padding: 0;}#sk-container-id-1 div.sk-toggleable {background-color: white;}#sk-container-id-1 label.sk-toggleable__label {cursor: pointer;display: block;width: 100%;margin-bottom: 0;padding: 0.3em;box-sizing: border-box;text-align: center;}#sk-container-id-1 label.sk-toggleable__label-arrow:before {content: \"▸\";float: left;margin-right: 0.25em;color: #696969;}#sk-container-id-1 label.sk-toggleable__label-arrow:hover:before {color: black;}#sk-container-id-1 div.sk-estimator:hover label.sk-toggleable__label-arrow:before {color: black;}#sk-container-id-1 div.sk-toggleable__content {max-height: 0;max-width: 0;overflow: hidden;text-align: left;background-color: #f0f8ff;}#sk-container-id-1 div.sk-toggleable__content pre {margin: 0.2em;color: black;border-radius: 0.25em;background-color: #f0f8ff;}#sk-container-id-1 input.sk-toggleable__control:checked~div.sk-toggleable__content {max-height: 200px;max-width: 100%;overflow: auto;}#sk-container-id-1 input.sk-toggleable__control:checked~label.sk-toggleable__label-arrow:before {content: \"▾\";}#sk-container-id-1 div.sk-estimator input.sk-toggleable__control:checked~label.sk-toggleable__label {background-color: #d4ebff;}#sk-container-id-1 div.sk-label input.sk-toggleable__control:checked~label.sk-toggleable__label {background-color: #d4ebff;}#sk-container-id-1 input.sk-hidden--visually {border: 0;clip: rect(1px 1px 1px 1px);clip: rect(1px, 1px, 1px, 1px);height: 1px;margin: -1px;overflow: hidden;padding: 0;position: absolute;width: 1px;}#sk-container-id-1 div.sk-estimator {font-family: monospace;background-color: #f0f8ff;border: 1px dotted black;border-radius: 0.25em;box-sizing: border-box;margin-bottom: 0.5em;}#sk-container-id-1 div.sk-estimator:hover {background-color: #d4ebff;}#sk-container-id-1 div.sk-parallel-item::after {content: \"\";width: 100%;border-bottom: 1px solid gray;flex-grow: 1;}#sk-container-id-1 div.sk-label:hover label.sk-toggleable__label {background-color: #d4ebff;}#sk-container-id-1 div.sk-serial::before {content: \"\";position: absolute;border-left: 1px solid gray;box-sizing: border-box;top: 0;bottom: 0;left: 50%;z-index: 0;}#sk-container-id-1 div.sk-serial {display: flex;flex-direction: column;align-items: center;background-color: white;padding-right: 0.2em;padding-left: 0.2em;position: relative;}#sk-container-id-1 div.sk-item {position: relative;z-index: 1;}#sk-container-id-1 div.sk-parallel {display: flex;align-items: stretch;justify-content: center;background-color: white;position: relative;}#sk-container-id-1 div.sk-item::before, #sk-container-id-1 div.sk-parallel-item::before {content: \"\";position: absolute;border-left: 1px solid gray;box-sizing: border-box;top: 0;bottom: 0;left: 50%;z-index: -1;}#sk-container-id-1 div.sk-parallel-item {display: flex;flex-direction: column;z-index: 1;position: relative;background-color: white;}#sk-container-id-1 div.sk-parallel-item:first-child::after {align-self: flex-end;width: 50%;}#sk-container-id-1 div.sk-parallel-item:last-child::after {align-self: flex-start;width: 50%;}#sk-container-id-1 div.sk-parallel-item:only-child::after {width: 0;}#sk-container-id-1 div.sk-dashed-wrapped {border: 1px dashed gray;margin: 0 0.4em 0.5em 0.4em;box-sizing: border-box;padding-bottom: 0.4em;background-color: white;}#sk-container-id-1 div.sk-label label {font-family: monospace;font-weight: bold;display: inline-block;line-height: 1.2em;}#sk-container-id-1 div.sk-label-container {text-align: center;}#sk-container-id-1 div.sk-container {/* jupyter's `normalize.less` sets `[hidden] { display: none; }` but bootstrap.min.css set `[hidden] { display: none !important; }` so we also need the `!important` here to be able to override the default hidden behavior on the sphinx rendered scikit-learn.org. See: https://github.com/scikit-learn/scikit-learn/issues/21755 */display: inline-block !important;position: relative;}#sk-container-id-1 div.sk-text-repr-fallback {display: none;}</style><div id=\"sk-container-id-1\" class=\"sk-top-container\"><div class=\"sk-text-repr-fallback\"><pre>RandomForestRegressor(random_state=42)</pre><b>In a Jupyter environment, please rerun this cell to show the HTML representation or trust the notebook. <br />On GitHub, the HTML representation is unable to render, please try loading this page with nbviewer.org.</b></div><div class=\"sk-container\" hidden><div class=\"sk-item\"><div class=\"sk-estimator sk-toggleable\"><input class=\"sk-toggleable__control sk-hidden--visually\" id=\"sk-estimator-id-1\" type=\"checkbox\" checked><label for=\"sk-estimator-id-1\" class=\"sk-toggleable__label sk-toggleable__label-arrow\">RandomForestRegressor</label><div class=\"sk-toggleable__content\"><pre>RandomForestRegressor(random_state=42)</pre></div></div></div></div></div>"
      ],
      "text/plain": [
       "RandomForestRegressor(random_state=42)"
      ]
     },
     "execution_count": 16,
     "metadata": {},
     "output_type": "execute_result"
    }
   ],
   "source": [
    "# Train the Random Forest model\n",
    "model = RandomForestRegressor(n_estimators=100, random_state=42)\n",
    "model.fit(X_train, y_train)\n"
   ]
  },
  {
   "cell_type": "code",
   "execution_count": 17,
   "metadata": {},
   "outputs": [],
   "source": [
    "# Make predictions\n",
    "y_pred = model.predict(X_test)"
   ]
  },
  {
   "cell_type": "code",
   "execution_count": 18,
   "metadata": {},
   "outputs": [
    {
     "name": "stdout",
     "output_type": "stream",
     "text": [
      "Mean Absolute Error: 4.876858458659295\n",
      "Mean Absolute Percentage Error: 0.0013656320515773677\n",
      "R2 Score: 0.99858761495329\n"
     ]
    }
   ],
   "source": [
    "# Evaluate the model\n",
    "mae = mean_absolute_error(y_test, y_pred)\n",
    "mape = mean_absolute_percentage_error(y_test, y_pred)\n",
    "r2 = r2_score(y_test, y_pred)\n",
    "\n",
    "print(f'Mean Absolute Error: {mae}')\n",
    "print(f'Mean Absolute Percentage Error: {mape}')\n",
    "print(f'R2 Score: {r2}')"
   ]
  },
  {
   "cell_type": "code",
   "execution_count": 19,
   "metadata": {},
   "outputs": [],
   "source": [
    "# Add predictions to the test set for analysis\n",
    "test_data['Predicted Sales Amount'] = y_pred"
   ]
  },
  {
   "cell_type": "code",
   "execution_count": 22,
   "metadata": {},
   "outputs": [],
   "source": [
    "# Restore original 'Product Name' and 'Shop' columns for analysis\n",
    "test_data['Product Name'] = original_product_name.iloc[test_idx].values\n",
    "test_data['Shop'] = original_shop.iloc[test_idx].values"
   ]
  },
  {
   "cell_type": "code",
   "execution_count": 23,
   "metadata": {},
   "outputs": [],
   "source": [
    "# Group by Product Name and Shop to get actual and predicted sales\n",
    "actual_sales_product = test_data.groupby('Product Name')['Sales Amount'].sum().reset_index()\n",
    "predicted_sales_product = test_data.groupby('Product Name')['Predicted Sales Amount'].sum().reset_index()\n",
    "\n",
    "actual_sales_shop = test_data.groupby('Shop')['Sales Amount'].sum().reset_index()\n",
    "predicted_sales_shop = test_data.groupby('Shop')['Predicted Sales Amount'].sum().reset_index()\n"
   ]
  },
  {
   "cell_type": "code",
   "execution_count": 24,
   "metadata": {},
   "outputs": [],
   "source": [
    "# Calculate errors\n",
    "product_errors = actual_sales_product.merge(predicted_sales_product, on='Product Name')\n",
    "product_errors['Error'] = np.abs(product_errors['Sales Amount'] - product_errors['Predicted Sales Amount'])\n",
    "\n",
    "shop_errors = actual_sales_shop.merge(predicted_sales_shop, on='Shop')\n",
    "shop_errors['Error'] = np.abs(shop_errors['Sales Amount'] - shop_errors['Predicted Sales Amount'])\n"
   ]
  },
  {
   "cell_type": "code",
   "execution_count": 25,
   "metadata": {},
   "outputs": [
    {
     "name": "stdout",
     "output_type": "stream",
     "text": [
      "Lowest Error Products:\n",
      "     Product Name  Sales Amount  Predicted Sales Amount  Error\n",
      "262    AHB-S24-7       1500.00                 1500.00    0.0\n",
      "47     ABR-S24-7       8389.80                 8389.80    0.0\n",
      "242   AER-W23-50       3355.92                 3355.92    0.0\n",
      "52    ABR-W23-10       2516.94                 2516.94    0.0\n",
      "264    AHB-S24-9       1000.00                 1000.00    0.0\n",
      "Highest Error Products:\n",
      "        Product Name  Sales Amount  Predicted Sales Amount        Error\n",
      "705      MB-F24-509     112956.59           108250.854100  4705.735900\n",
      "1131      MB-W22-91     503569.59           498710.063118  4859.526882\n",
      "610     MB-EF24-114     546730.38           552121.324500  5390.944500\n",
      "642     MB-EF24-191     145374.98           151088.800100  5713.820100\n",
      "936   MB-US23-109-A     364972.09           359048.664865  5923.425135\n",
      "Lowest Error Shops:\n",
      "                        Shop  Sales Amount  Predicted Sales Amount  \\\n",
      "18       Kartarpur Corridor      32151.30            32151.300000   \n",
      "37                 Sargodha       5785.71             5785.747801   \n",
      "6    City Center Bahawalpur     554120.17           554120.221506   \n",
      "0   Al Fateh V-Mall Sailkot     375906.92           375907.024956   \n",
      "27   Mall of KPK Peshawar-2     937581.59           937581.705940   \n",
      "\n",
      "           Error  \n",
      "18  2.546585e-11  \n",
      "37  3.780060e-02  \n",
      "6   5.150594e-02  \n",
      "0   1.049563e-01  \n",
      "27  1.159400e-01  \n",
      "Highest Error Shops:\n",
      "                               Shop  Sales Amount  Predicted Sales Amount  \\\n",
      "26  M-Basics Giga Mall Islamabad 5   17260129.91            1.725843e+07   \n",
      "28                Mall of Mardan-2     200255.01            2.026505e+05   \n",
      "1            Amazon Mall Islamabad    3010842.71            3.013446e+06   \n",
      "30            Mini Market Lahore 2    6708083.91            6.712947e+06   \n",
      "33                          Online   72836695.37            7.282758e+07   \n",
      "\n",
      "          Error  \n",
      "26  1704.851189  \n",
      "28  2395.447563  \n",
      "1   2603.074793  \n",
      "30  4863.401797  \n",
      "33  9111.580081  \n"
     ]
    }
   ],
   "source": [
    "# Identify combinations with lowest and highest errors\n",
    "lowest_error_product = product_errors.sort_values(by='Error').head(5)\n",
    "highest_error_product = product_errors.sort_values(by='Error').tail(5)\n",
    "\n",
    "lowest_error_shop = shop_errors.sort_values(by='Error').head(5)\n",
    "highest_error_shop = shop_errors.sort_values(by='Error').tail(5)\n",
    "\n",
    "print(\"Lowest Error Products:\\n\", lowest_error_product)\n",
    "print(\"Highest Error Products:\\n\", highest_error_product)\n",
    "print(\"Lowest Error Shops:\\n\", lowest_error_shop)\n",
    "print(\"Highest Error Shops:\\n\", highest_error_shop)"
   ]
  },
  {
   "cell_type": "code",
   "execution_count": 26,
   "metadata": {},
   "outputs": [],
   "source": [
    "# Compute error metrics for each Shop and Product Name combination in the test set\n",
    "test_data['Error'] = np.abs(test_data['Sales Amount'] - test_data['Predicted Sales Amount'])\n",
    "error_metrics = test_data.groupby(['Shop', 'Product Name']).agg(\n",
    "    Samples=('Sales Amount', 'count'),\n",
    "    MAE=('Error', 'mean'),\n",
    "    MAPE=('Error', lambda x: np.mean(np.abs(x / test_data['Sales Amount']))),\n",
    "    R2=('Error', lambda x: r2_score(test_data['Sales Amount'], test_data['Predicted Sales Amount']))\n",
    ").reset_index()\n",
    "\n",
    "# Save error metrics to CSV\n",
    "error_metrics.to_csv('error_metrics.csv', index=False)"
   ]
  },
  {
   "cell_type": "code",
   "execution_count": null,
   "metadata": {},
   "outputs": [],
   "source": []
  }
 ],
 "metadata": {
  "kernelspec": {
   "display_name": "myenv",
   "language": "python",
   "name": "python3"
  },
  "language_info": {
   "codemirror_mode": {
    "name": "ipython",
    "version": 3
   },
   "file_extension": ".py",
   "mimetype": "text/x-python",
   "name": "python",
   "nbconvert_exporter": "python",
   "pygments_lexer": "ipython3",
   "version": "3.9.18"
  }
 },
 "nbformat": 4,
 "nbformat_minor": 2
}
