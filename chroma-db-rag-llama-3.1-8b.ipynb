{
 "cells": [
  {
   "cell_type": "code",
   "execution_count": 2,
   "metadata": {
    "_cell_guid": "b1076dfc-b9ad-4769-8c92-a6c4dae69d19",
    "_uuid": "8f2839f25d086af736a60e9eeb907d3b93b6e0e5",
    "execution": {
     "iopub.execute_input": "2024-08-22T19:08:48.308419Z",
     "iopub.status.busy": "2024-08-22T19:08:48.308033Z",
     "iopub.status.idle": "2024-08-22T19:09:03.399620Z",
     "shell.execute_reply": "2024-08-22T19:09:03.398639Z",
     "shell.execute_reply.started": "2024-08-22T19:08:48.308378Z"
    },
    "trusted": true
   },
   "outputs": [
    {
     "name": "stdout",
     "output_type": "stream",
     "text": [
      "Requirement already satisfied: transformers in /usr/local/lib/python3.10/site-packages (4.44.0)\n",
      "Collecting transformers\n",
      "  Downloading transformers-4.44.2-py3-none-any.whl (9.5 MB)\n",
      "\u001b[2K     \u001b[90m━━━━━━━━━━━━━━━━━━━━━━━━━━━━━━━━━━━━━━━━\u001b[0m \u001b[32m9.5/9.5 MB\u001b[0m \u001b[31m33.8 MB/s\u001b[0m eta \u001b[36m0:00:00\u001b[0m00:01\u001b[0m00:01\u001b[0m\n",
      "\u001b[?25hRequirement already satisfied: pyyaml>=5.1 in /usr/local/lib/python3.10/site-packages (from transformers) (6.0.2)\n",
      "Requirement already satisfied: filelock in /usr/local/lib/python3.10/site-packages (from transformers) (3.15.4)\n",
      "Requirement already satisfied: requests in /usr/local/lib/python3.10/site-packages (from transformers) (2.32.3)\n",
      "Requirement already satisfied: huggingface-hub<1.0,>=0.23.2 in /usr/local/lib/python3.10/site-packages (from transformers) (0.24.6)\n",
      "Requirement already satisfied: packaging>=20.0 in /usr/local/lib/python3.10/site-packages (from transformers) (24.1)\n",
      "Requirement already satisfied: regex!=2019.12.17 in /usr/local/lib/python3.10/site-packages (from transformers) (2024.7.24)\n",
      "Requirement already satisfied: tqdm>=4.27 in /usr/local/lib/python3.10/site-packages (from transformers) (4.66.5)\n",
      "Requirement already satisfied: safetensors>=0.4.1 in /usr/local/lib/python3.10/site-packages (from transformers) (0.4.4)\n",
      "Requirement already satisfied: tokenizers<0.20,>=0.19 in /usr/local/lib/python3.10/site-packages (from transformers) (0.19.1)\n",
      "Requirement already satisfied: numpy>=1.17 in /usr/local/lib/python3.10/site-packages (from transformers) (1.26.4)\n",
      "Requirement already satisfied: fsspec>=2023.5.0 in /usr/local/lib/python3.10/site-packages (from huggingface-hub<1.0,>=0.23.2->transformers) (2024.6.1)\n",
      "Requirement already satisfied: typing-extensions>=3.7.4.3 in /usr/local/lib/python3.10/site-packages (from huggingface-hub<1.0,>=0.23.2->transformers) (4.12.2)\n",
      "Requirement already satisfied: certifi>=2017.4.17 in /usr/local/lib/python3.10/site-packages (from requests->transformers) (2024.7.4)\n",
      "Requirement already satisfied: charset-normalizer<4,>=2 in /usr/local/lib/python3.10/site-packages (from requests->transformers) (3.3.2)\n",
      "Requirement already satisfied: urllib3<3,>=1.21.1 in /usr/local/lib/python3.10/site-packages (from requests->transformers) (2.2.2)\n",
      "Requirement already satisfied: idna<4,>=2.5 in /usr/local/lib/python3.10/site-packages (from requests->transformers) (3.7)\n",
      "Installing collected packages: transformers\n",
      "  Attempting uninstall: transformers\n",
      "    Found existing installation: transformers 4.44.0\n",
      "    Uninstalling transformers-4.44.0:\n",
      "      Successfully uninstalled transformers-4.44.0\n",
      "Successfully installed transformers-4.44.2\n",
      "\u001b[33mWARNING: Running pip as the 'root' user can result in broken permissions and conflicting behaviour with the system package manager. It is recommended to use a virtual environment instead: https://pip.pypa.io/warnings/venv\u001b[0m\u001b[33m\n",
      "\u001b[0m\n",
      "\u001b[1m[\u001b[0m\u001b[34;49mnotice\u001b[0m\u001b[1;39;49m]\u001b[0m\u001b[39;49m A new release of pip is available: \u001b[0m\u001b[31;49m23.0.1\u001b[0m\u001b[39;49m -> \u001b[0m\u001b[32;49m24.2\u001b[0m\n",
      "\u001b[1m[\u001b[0m\u001b[34;49mnotice\u001b[0m\u001b[1;39;49m]\u001b[0m\u001b[39;49m To update, run: \u001b[0m\u001b[32;49mpip install --upgrade pip\u001b[0m\n"
     ]
    }
   ],
   "source": [
    "!pip install --upgrade transformers"
   ]
  },
  {
   "cell_type": "code",
   "execution_count": 3,
   "metadata": {
    "execution": {
     "iopub.execute_input": "2024-08-22T19:09:03.402035Z",
     "iopub.status.busy": "2024-08-22T19:09:03.401548Z",
     "iopub.status.idle": "2024-08-22T19:09:27.407271Z",
     "shell.execute_reply": "2024-08-22T19:09:27.406130Z",
     "shell.execute_reply.started": "2024-08-22T19:09:03.401999Z"
    },
    "trusted": true
   },
   "outputs": [
    {
     "name": "stdout",
     "output_type": "stream",
     "text": [
      "\u001b[33mWARNING: Running pip as the 'root' user can result in broken permissions and conflicting behaviour with the system package manager. It is recommended to use a virtual environment instead: https://pip.pypa.io/warnings/venv\u001b[0m\u001b[33m\n",
      "\u001b[0m\n",
      "\u001b[1m[\u001b[0m\u001b[34;49mnotice\u001b[0m\u001b[1;39;49m]\u001b[0m\u001b[39;49m A new release of pip is available: \u001b[0m\u001b[31;49m23.0.1\u001b[0m\u001b[39;49m -> \u001b[0m\u001b[32;49m24.2\u001b[0m\n",
      "\u001b[1m[\u001b[0m\u001b[34;49mnotice\u001b[0m\u001b[1;39;49m]\u001b[0m\u001b[39;49m To update, run: \u001b[0m\u001b[32;49mpip install --upgrade pip\u001b[0m\n"
     ]
    }
   ],
   "source": [
    "!pip install datasets ipywidgets chromadb -q"
   ]
  },
  {
   "cell_type": "code",
   "execution_count": 14,
   "metadata": {
    "execution": {
     "iopub.execute_input": "2024-08-22T19:17:51.793664Z",
     "iopub.status.busy": "2024-08-22T19:17:51.793287Z",
     "iopub.status.idle": "2024-08-22T19:17:57.009050Z",
     "shell.execute_reply": "2024-08-22T19:17:57.008241Z",
     "shell.execute_reply.started": "2024-08-22T19:17:51.793633Z"
    },
    "trusted": true
   },
   "outputs": [
    {
     "name": "stdout",
     "output_type": "stream",
     "text": [
      "\u001b[33mWARNING: Running pip as the 'root' user can result in broken permissions and conflicting behaviour with the system package manager. It is recommended to use a virtual environment instead: https://pip.pypa.io/warnings/venv\u001b[0m\u001b[33m\n",
      "\u001b[0m\n",
      "\u001b[1m[\u001b[0m\u001b[34;49mnotice\u001b[0m\u001b[1;39;49m]\u001b[0m\u001b[39;49m A new release of pip is available: \u001b[0m\u001b[31;49m23.0.1\u001b[0m\u001b[39;49m -> \u001b[0m\u001b[32;49m24.2\u001b[0m\n",
      "\u001b[1m[\u001b[0m\u001b[34;49mnotice\u001b[0m\u001b[1;39;49m]\u001b[0m\u001b[39;49m To update, run: \u001b[0m\u001b[32;49mpip install --upgrade pip\u001b[0m\n"
     ]
    }
   ],
   "source": [
    "!pip install sentence_transformers -q"
   ]
  },
  {
   "cell_type": "code",
   "execution_count": 11,
   "metadata": {
    "execution": {
     "iopub.execute_input": "2024-08-22T19:16:34.367546Z",
     "iopub.status.busy": "2024-08-22T19:16:34.366673Z",
     "iopub.status.idle": "2024-08-22T19:16:34.371595Z",
     "shell.execute_reply": "2024-08-22T19:16:34.370903Z",
     "shell.execute_reply.started": "2024-08-22T19:16:34.367508Z"
    },
    "trusted": true
   },
   "outputs": [],
   "source": [
    "import os\n",
    "from transformers import AutoModelForCausalLM, AutoTokenizer\n",
    "from datasets import load_dataset\n",
    "import chromadb\n",
    "from chromadb.config import Settings\n",
    "from chromadb.utils.embedding_functions import SentenceTransformerEmbeddingFunction\n"
   ]
  },
  {
   "cell_type": "code",
   "execution_count": null,
   "metadata": {
    "execution": {
     "iopub.execute_input": "2024-08-22T19:09:58.985904Z",
     "iopub.status.busy": "2024-08-22T19:09:58.985457Z",
     "iopub.status.idle": "2024-08-22T19:09:58.989358Z",
     "shell.execute_reply": "2024-08-22T19:09:58.988695Z",
     "shell.execute_reply.started": "2024-08-22T19:09:58.985851Z"
    },
    "trusted": true
   },
   "outputs": [],
   "source": [
    "# Set the Hugging Face token\n",
    "os.environ[\"HF_TOKEN\"] = \"\""
   ]
  },
  {
   "cell_type": "code",
   "execution_count": 6,
   "metadata": {
    "execution": {
     "iopub.execute_input": "2024-08-22T19:09:58.990598Z",
     "iopub.status.busy": "2024-08-22T19:09:58.990179Z",
     "iopub.status.idle": "2024-08-22T19:11:22.162656Z",
     "shell.execute_reply": "2024-08-22T19:11:22.161581Z",
     "shell.execute_reply.started": "2024-08-22T19:09:58.990556Z"
    },
    "trusted": true
   },
   "outputs": [
    {
     "name": "stderr",
     "output_type": "stream",
     "text": [
      "/usr/local/lib/python3.10/site-packages/transformers/models/auto/auto_factory.py:469: FutureWarning: The `use_auth_token` argument is deprecated and will be removed in v5 of Transformers. Please use `token` instead.\n",
      "  warnings.warn(\n"
     ]
    },
    {
     "data": {
      "application/vnd.jupyter.widget-view+json": {
       "model_id": "d65df65401d4443b982c559a5e237d33",
       "version_major": 2,
       "version_minor": 0
      },
      "text/plain": [
       "config.json:   0%|          | 0.00/855 [00:00<?, ?B/s]"
      ]
     },
     "metadata": {},
     "output_type": "display_data"
    },
    {
     "name": "stderr",
     "output_type": "stream",
     "text": [
      "/usr/local/lib/python3.10/site-packages/torch_xla/__init__.py:202: UserWarning: `tensorflow` can conflict with `torch-xla`. Prefer `tensorflow-cpu` when using PyTorch/XLA. To silence this warning, `pip uninstall -y tensorflow && pip install tensorflow-cpu`. If you are in a notebook environment such as Colab or Kaggle, restart your notebook runtime afterwards.\n",
      "  warnings.warn(\n"
     ]
    },
    {
     "data": {
      "application/vnd.jupyter.widget-view+json": {
       "model_id": "eefbb8b4c4f34e0d9c000b86ce79716c",
       "version_major": 2,
       "version_minor": 0
      },
      "text/plain": [
       "model.safetensors.index.json:   0%|          | 0.00/23.9k [00:00<?, ?B/s]"
      ]
     },
     "metadata": {},
     "output_type": "display_data"
    },
    {
     "data": {
      "application/vnd.jupyter.widget-view+json": {
       "model_id": "4b5d17cca7f34f8ca05b3ebb6d4509ac",
       "version_major": 2,
       "version_minor": 0
      },
      "text/plain": [
       "Downloading shards:   0%|          | 0/4 [00:00<?, ?it/s]"
      ]
     },
     "metadata": {},
     "output_type": "display_data"
    },
    {
     "data": {
      "application/vnd.jupyter.widget-view+json": {
       "model_id": "532edae2909d42b7abed264b48bd36b3",
       "version_major": 2,
       "version_minor": 0
      },
      "text/plain": [
       "model-00001-of-00004.safetensors:   0%|          | 0.00/4.98G [00:00<?, ?B/s]"
      ]
     },
     "metadata": {},
     "output_type": "display_data"
    },
    {
     "data": {
      "application/vnd.jupyter.widget-view+json": {
       "model_id": "1783c26b49a34cba97b434554587b9a8",
       "version_major": 2,
       "version_minor": 0
      },
      "text/plain": [
       "model-00002-of-00004.safetensors:   0%|          | 0.00/5.00G [00:00<?, ?B/s]"
      ]
     },
     "metadata": {},
     "output_type": "display_data"
    },
    {
     "data": {
      "application/vnd.jupyter.widget-view+json": {
       "model_id": "57d493cb8b124529b87430f5942b080d",
       "version_major": 2,
       "version_minor": 0
      },
      "text/plain": [
       "model-00003-of-00004.safetensors:   0%|          | 0.00/4.92G [00:00<?, ?B/s]"
      ]
     },
     "metadata": {},
     "output_type": "display_data"
    },
    {
     "data": {
      "application/vnd.jupyter.widget-view+json": {
       "model_id": "713932cde67d4f9eaf4e19965aca28fb",
       "version_major": 2,
       "version_minor": 0
      },
      "text/plain": [
       "model-00004-of-00004.safetensors:   0%|          | 0.00/1.17G [00:00<?, ?B/s]"
      ]
     },
     "metadata": {},
     "output_type": "display_data"
    },
    {
     "data": {
      "application/vnd.jupyter.widget-view+json": {
       "model_id": "28aff62367364345b525dfa5553004a4",
       "version_major": 2,
       "version_minor": 0
      },
      "text/plain": [
       "Loading checkpoint shards:   0%|          | 0/4 [00:00<?, ?it/s]"
      ]
     },
     "metadata": {},
     "output_type": "display_data"
    },
    {
     "data": {
      "application/vnd.jupyter.widget-view+json": {
       "model_id": "eb490faa3d8145eb8dfcec56366e01f7",
       "version_major": 2,
       "version_minor": 0
      },
      "text/plain": [
       "generation_config.json:   0%|          | 0.00/184 [00:00<?, ?B/s]"
      ]
     },
     "metadata": {},
     "output_type": "display_data"
    },
    {
     "name": "stderr",
     "output_type": "stream",
     "text": [
      "/usr/local/lib/python3.10/site-packages/transformers/models/auto/tokenization_auto.py:786: FutureWarning: The `use_auth_token` argument is deprecated and will be removed in v5 of Transformers. Please use `token` instead.\n",
      "  warnings.warn(\n"
     ]
    },
    {
     "data": {
      "application/vnd.jupyter.widget-view+json": {
       "model_id": "2e23f4e4959f45eea3230a865a81829c",
       "version_major": 2,
       "version_minor": 0
      },
      "text/plain": [
       "tokenizer_config.json:   0%|          | 0.00/55.4k [00:00<?, ?B/s]"
      ]
     },
     "metadata": {},
     "output_type": "display_data"
    },
    {
     "data": {
      "application/vnd.jupyter.widget-view+json": {
       "model_id": "b4fdc78ef47349f19f431b39cdbf8d30",
       "version_major": 2,
       "version_minor": 0
      },
      "text/plain": [
       "tokenizer.json:   0%|          | 0.00/9.09M [00:00<?, ?B/s]"
      ]
     },
     "metadata": {},
     "output_type": "display_data"
    },
    {
     "data": {
      "application/vnd.jupyter.widget-view+json": {
       "model_id": "4047552f65184a8c800e5a932fbad269",
       "version_major": 2,
       "version_minor": 0
      },
      "text/plain": [
       "special_tokens_map.json:   0%|          | 0.00/296 [00:00<?, ?B/s]"
      ]
     },
     "metadata": {},
     "output_type": "display_data"
    }
   ],
   "source": [
    "# Load the model and tokenizer\n",
    "model_name = \"meta-llama/Meta-Llama-3.1-8B-Instruct\"\n",
    "model = AutoModelForCausalLM.from_pretrained(model_name, use_auth_token=os.getenv(\"HF_TOKEN\"))\n",
    "tokenizer = AutoTokenizer.from_pretrained(model_name, use_auth_token=os.getenv(\"HF_TOKEN\"))\n"
   ]
  },
  {
   "cell_type": "code",
   "execution_count": 7,
   "metadata": {
    "execution": {
     "iopub.execute_input": "2024-08-22T19:11:22.274057Z",
     "iopub.status.busy": "2024-08-22T19:11:22.273691Z",
     "iopub.status.idle": "2024-08-22T19:11:22.278038Z",
     "shell.execute_reply": "2024-08-22T19:11:22.277296Z",
     "shell.execute_reply.started": "2024-08-22T19:11:22.274023Z"
    },
    "trusted": true
   },
   "outputs": [],
   "source": [
    "# Assign the eos_token as the pad_token (if needed)\n",
    "tokenizer.pad_token = tokenizer.eos_token"
   ]
  },
  {
   "cell_type": "code",
   "execution_count": 8,
   "metadata": {
    "execution": {
     "iopub.execute_input": "2024-08-22T19:11:22.280264Z",
     "iopub.status.busy": "2024-08-22T19:11:22.279986Z",
     "iopub.status.idle": "2024-08-22T19:12:01.792712Z",
     "shell.execute_reply": "2024-08-22T19:12:01.791829Z",
     "shell.execute_reply.started": "2024-08-22T19:11:22.280233Z"
    },
    "trusted": true
   },
   "outputs": [
    {
     "data": {
      "application/vnd.jupyter.widget-view+json": {
       "model_id": "f5d91f0b08414d12bbb3bcb2b1ae93a9",
       "version_major": 2,
       "version_minor": 0
      },
      "text/plain": [
       "Downloading readme:   0%|          | 0.00/233 [00:00<?, ?B/s]"
      ]
     },
     "metadata": {},
     "output_type": "display_data"
    },
    {
     "data": {
      "application/vnd.jupyter.widget-view+json": {
       "model_id": "7c0369ff17934799823b6b112ca231e3",
       "version_major": 2,
       "version_minor": 0
      },
      "text/plain": [
       "Downloading data:   0%|          | 0.00/22.5M [00:00<?, ?B/s]"
      ]
     },
     "metadata": {},
     "output_type": "display_data"
    },
    {
     "data": {
      "application/vnd.jupyter.widget-view+json": {
       "model_id": "bf786fba4bf94f499bd49d049c3fe7d5",
       "version_major": 2,
       "version_minor": 0
      },
      "text/plain": [
       "Generating train split:   0%|          | 0/16407 [00:00<?, ? examples/s]"
      ]
     },
     "metadata": {},
     "output_type": "display_data"
    }
   ],
   "source": [
    "# Load the dataset\n",
    "dataset = load_dataset(\"keivalya/MedQuad-MedicalQnADataset\")[\"train\"]"
   ]
  },
  {
   "cell_type": "code",
   "execution_count": 12,
   "metadata": {
    "execution": {
     "iopub.execute_input": "2024-08-22T19:16:40.117152Z",
     "iopub.status.busy": "2024-08-22T19:16:40.116746Z",
     "iopub.status.idle": "2024-08-22T19:16:40.300688Z",
     "shell.execute_reply": "2024-08-22T19:16:40.299918Z",
     "shell.execute_reply.started": "2024-08-22T19:16:40.117119Z"
    },
    "trusted": true
   },
   "outputs": [],
   "source": [
    "# Initialize Chroma DB\n",
    "client = chromadb.Client(Settings(persist_directory=\"./chroma_db\", anonymized_telemetry=False))\n"
   ]
  },
  {
   "cell_type": "code",
   "execution_count": 15,
   "metadata": {
    "execution": {
     "iopub.execute_input": "2024-08-22T19:18:03.593217Z",
     "iopub.status.busy": "2024-08-22T19:18:03.592576Z",
     "iopub.status.idle": "2024-08-22T19:18:20.863657Z",
     "shell.execute_reply": "2024-08-22T19:18:20.862811Z",
     "shell.execute_reply.started": "2024-08-22T19:18:03.593176Z"
    },
    "trusted": true
   },
   "outputs": [
    {
     "name": "stderr",
     "output_type": "stream",
     "text": [
      "WARNING: Logging before InitGoogle() is written to STDERR\n",
      "E0000 00:00:1724354290.031630      13 common_lib.cc:798] Could not set metric server port: INVALID_ARGUMENT: Could not find SliceBuilder port 8471 in any of the 0 ports provided in `tpu_process_addresses`=\"local\"\n",
      "=== Source Location Trace: === \n",
      "learning/45eac/tfrc/runtime/common_lib.cc:479\n",
      "E0822 19:18:10.064823469      13 oauth2_credentials.cc:238]            oauth_fetch: UNKNOWN:C-ares status is not ARES_SUCCESS qtype=A name=metadata.google.internal. is_balancer=0: Domain name not found {grpc_status:2, created_time:\"2024-08-22T19:18:10.064800245+00:00\"}\n"
     ]
    },
    {
     "data": {
      "application/vnd.jupyter.widget-view+json": {
       "model_id": "57e04294eea24d97a7ce27352bc19b02",
       "version_major": 2,
       "version_minor": 0
      },
      "text/plain": [
       "modules.json:   0%|          | 0.00/349 [00:00<?, ?B/s]"
      ]
     },
     "metadata": {},
     "output_type": "display_data"
    },
    {
     "data": {
      "application/vnd.jupyter.widget-view+json": {
       "model_id": "39ba2efa6dab4de6a13da6a817b1e8d3",
       "version_major": 2,
       "version_minor": 0
      },
      "text/plain": [
       "config_sentence_transformers.json:   0%|          | 0.00/116 [00:00<?, ?B/s]"
      ]
     },
     "metadata": {},
     "output_type": "display_data"
    },
    {
     "data": {
      "application/vnd.jupyter.widget-view+json": {
       "model_id": "1b2664c192514c289687d7b6afc9a2a6",
       "version_major": 2,
       "version_minor": 0
      },
      "text/plain": [
       "README.md:   0%|          | 0.00/10.7k [00:00<?, ?B/s]"
      ]
     },
     "metadata": {},
     "output_type": "display_data"
    },
    {
     "data": {
      "application/vnd.jupyter.widget-view+json": {
       "model_id": "bfb410b79777492b8f64be6608dd77fb",
       "version_major": 2,
       "version_minor": 0
      },
      "text/plain": [
       "sentence_bert_config.json:   0%|          | 0.00/53.0 [00:00<?, ?B/s]"
      ]
     },
     "metadata": {},
     "output_type": "display_data"
    },
    {
     "data": {
      "application/vnd.jupyter.widget-view+json": {
       "model_id": "5f0d9a18032043d886ae4e463da06a12",
       "version_major": 2,
       "version_minor": 0
      },
      "text/plain": [
       "config.json:   0%|          | 0.00/612 [00:00<?, ?B/s]"
      ]
     },
     "metadata": {},
     "output_type": "display_data"
    },
    {
     "data": {
      "application/vnd.jupyter.widget-view+json": {
       "model_id": "34bd3d263bab4dbaaec5295cfd643b30",
       "version_major": 2,
       "version_minor": 0
      },
      "text/plain": [
       "model.safetensors:   0%|          | 0.00/90.9M [00:00<?, ?B/s]"
      ]
     },
     "metadata": {},
     "output_type": "display_data"
    },
    {
     "data": {
      "application/vnd.jupyter.widget-view+json": {
       "model_id": "5df64ac5d6db4a18912f50523864448e",
       "version_major": 2,
       "version_minor": 0
      },
      "text/plain": [
       "tokenizer_config.json:   0%|          | 0.00/350 [00:00<?, ?B/s]"
      ]
     },
     "metadata": {},
     "output_type": "display_data"
    },
    {
     "data": {
      "application/vnd.jupyter.widget-view+json": {
       "model_id": "8983c96742984e609bd499acb800f9f4",
       "version_major": 2,
       "version_minor": 0
      },
      "text/plain": [
       "vocab.txt:   0%|          | 0.00/232k [00:00<?, ?B/s]"
      ]
     },
     "metadata": {},
     "output_type": "display_data"
    },
    {
     "data": {
      "application/vnd.jupyter.widget-view+json": {
       "model_id": "527978592d9149cfb3b4dd0dff0b3a19",
       "version_major": 2,
       "version_minor": 0
      },
      "text/plain": [
       "tokenizer.json:   0%|          | 0.00/466k [00:00<?, ?B/s]"
      ]
     },
     "metadata": {},
     "output_type": "display_data"
    },
    {
     "data": {
      "application/vnd.jupyter.widget-view+json": {
       "model_id": "180e119778fe4db295edfd52671c59aa",
       "version_major": 2,
       "version_minor": 0
      },
      "text/plain": [
       "special_tokens_map.json:   0%|          | 0.00/112 [00:00<?, ?B/s]"
      ]
     },
     "metadata": {},
     "output_type": "display_data"
    },
    {
     "name": "stderr",
     "output_type": "stream",
     "text": [
      "/usr/local/lib/python3.10/site-packages/transformers/tokenization_utils_base.py:1601: FutureWarning: `clean_up_tokenization_spaces` was not set. It will be set to `True` by default. This behavior will be depracted in transformers v4.45, and will be then set to `False` by default. For more details check this issue: https://github.com/huggingface/transformers/issues/31884\n",
      "  warnings.warn(\n"
     ]
    },
    {
     "data": {
      "application/vnd.jupyter.widget-view+json": {
       "model_id": "e3bc3fe5e26d460596e9537f4abaa6ba",
       "version_major": 2,
       "version_minor": 0
      },
      "text/plain": [
       "1_Pooling/config.json:   0%|          | 0.00/190 [00:00<?, ?B/s]"
      ]
     },
     "metadata": {},
     "output_type": "display_data"
    }
   ],
   "source": [
    "# Create an embedding function for Chroma DB\n",
    "embedding_fn = SentenceTransformerEmbeddingFunction(\"all-MiniLM-L6-v2\")\n"
   ]
  },
  {
   "cell_type": "code",
   "execution_count": 16,
   "metadata": {
    "execution": {
     "iopub.execute_input": "2024-08-22T19:19:08.201606Z",
     "iopub.status.busy": "2024-08-22T19:19:08.201142Z",
     "iopub.status.idle": "2024-08-22T19:19:08.222553Z",
     "shell.execute_reply": "2024-08-22T19:19:08.221526Z",
     "shell.execute_reply.started": "2024-08-22T19:19:08.201568Z"
    },
    "trusted": true
   },
   "outputs": [],
   "source": [
    "# Add documents to Chroma DB\n",
    "collection = client.create_collection(\"medquad\", embedding_function=embedding_fn)\n"
   ]
  },
  {
   "cell_type": "code",
   "execution_count": 17,
   "metadata": {
    "execution": {
     "iopub.execute_input": "2024-08-22T19:19:41.908784Z",
     "iopub.status.busy": "2024-08-22T19:19:41.908367Z",
     "iopub.status.idle": "2024-08-22T19:23:54.059734Z",
     "shell.execute_reply": "2024-08-22T19:23:54.058412Z",
     "shell.execute_reply.started": "2024-08-22T19:19:41.908748Z"
    },
    "trusted": true
   },
   "outputs": [],
   "source": [
    "# Prepare data for Chroma DB\n",
    "data = [{\"id\": str(i), \"document\": dataset[i][\"Answer\"]} for i in range(len(dataset))]\n",
    "\n",
    "# Add data to the Chroma collection\n",
    "collection.add(ids=[item[\"id\"] for item in data],\n",
    "               documents=[item[\"document\"] for item in data])"
   ]
  },
  {
   "cell_type": "code",
   "execution_count": 18,
   "metadata": {
    "execution": {
     "iopub.execute_input": "2024-08-22T19:25:49.691640Z",
     "iopub.status.busy": "2024-08-22T19:25:49.691193Z",
     "iopub.status.idle": "2024-08-22T19:25:49.697041Z",
     "shell.execute_reply": "2024-08-22T19:25:49.696047Z",
     "shell.execute_reply.started": "2024-08-22T19:25:49.691601Z"
    },
    "trusted": true
   },
   "outputs": [],
   "source": [
    "def retrieve_documents_chroma(question, collection, top_n=5):\n",
    "    # Retrieve top_n most similar documents from Chroma DB\n",
    "    results = collection.query(query_texts=[question], n_results=top_n)\n",
    "    \n",
    "    # Extract documents from the results\n",
    "    retrieved_docs = results['documents'][0]\n",
    "    \n",
    "    return \" \".join(retrieved_docs)\n"
   ]
  },
  {
   "cell_type": "code",
   "execution_count": 19,
   "metadata": {
    "execution": {
     "iopub.execute_input": "2024-08-22T19:26:29.495572Z",
     "iopub.status.busy": "2024-08-22T19:26:29.494499Z",
     "iopub.status.idle": "2024-08-22T19:26:29.500796Z",
     "shell.execute_reply": "2024-08-22T19:26:29.499795Z",
     "shell.execute_reply.started": "2024-08-22T19:26:29.495530Z"
    },
    "trusted": true
   },
   "outputs": [],
   "source": [
    "def rag_pipeline_chroma(question, collection, model, tokenizer):\n",
    "    # Retrieve relevant documents using Chroma DB\n",
    "    docs = retrieve_documents_chroma(question, collection)\n",
    "\n",
    "    # Concatenate the question with the retrieved documents\n",
    "    combined_input = question + \" \" + docs\n",
    "\n",
    "    # Tokenize the combined input\n",
    "    inputs = tokenizer(combined_input, return_tensors=\"pt\", padding=True, truncation=True, max_length=256)\n",
    "\n",
    "    # Generate an answer using the model\n",
    "    outputs = model.generate(\n",
    "        inputs[\"input_ids\"], \n",
    "        attention_mask=inputs[\"attention_mask\"],\n",
    "        max_new_tokens=50\n",
    "    )\n",
    "\n",
    "    # Decode and return the generated answer\n",
    "    return tokenizer.decode(outputs[0], skip_special_tokens=True)\n"
   ]
  },
  {
   "cell_type": "code",
   "execution_count": 20,
   "metadata": {
    "execution": {
     "iopub.execute_input": "2024-08-22T19:26:44.321633Z",
     "iopub.status.busy": "2024-08-22T19:26:44.320686Z",
     "iopub.status.idle": "2024-08-22T19:27:04.681369Z",
     "shell.execute_reply": "2024-08-22T19:27:04.680282Z",
     "shell.execute_reply.started": "2024-08-22T19:26:44.321587Z"
    },
    "trusted": true
   },
   "outputs": [
    {
     "name": "stderr",
     "output_type": "stream",
     "text": [
      "Setting `pad_token_id` to `eos_token_id`:128001 for open-end generation.\n"
     ]
    },
    {
     "name": "stdout",
     "output_type": "stream",
     "text": [
      "Answer: Who is at risk for Lymphocytic Choriomeningitis (LCM)? Langerhans cell histiocytosis (LCH) is a disorder that primarily affects children, but is also found in adults of all ages. People with LCH produce too many Langerhans cells or histiocytes, a form of white blood cell found in healthy people that is supposed to protect the body from infection. In people with LCH, these cells multiply excessively and build up in certain areas of the body, causing tumors called granulomas to form. The symptoms vary among affected individuals, and the cause of LCH is unknown. In most cases, this condition is not life-threatening. Some people do experience life-long problems associated with LCH. Multicentric Castleman disease (MCD) is a rare condition that affects the lymph nodes and related tissues. It is a form of Castleman disease that is \"systemic\" and affects multiple sets of lymph nodes and other tissues throughout the body (as opposed to unicentric Castleman disease which has more \"localized\" effects). The signs and symptoms of MCD are often nonspecific and blamed on other, more common conditions. They can vary but may include fever; weight loss; fatigue; night sweats; and swelling of the lymph nodes, spleen, or liver. The exact cause of MCD is unknown, but it is believed to be related to an abnormal immune system response. It is more common in people who have a weakened immune\n"
     ]
    }
   ],
   "source": [
    "# Example usage\n",
    "question = \"Who is at risk for Lymphocytic Choriomeningitis (LCM)?\"\n",
    "answer = rag_pipeline_chroma(question, collection, model, tokenizer)\n",
    "print(\"Answer:\", answer)"
   ]
  },
  {
   "cell_type": "code",
   "execution_count": 21,
   "metadata": {
    "execution": {
     "iopub.execute_input": "2024-08-22T19:28:56.236930Z",
     "iopub.status.busy": "2024-08-22T19:28:56.236463Z",
     "iopub.status.idle": "2024-08-22T19:29:16.445648Z",
     "shell.execute_reply": "2024-08-22T19:29:16.444439Z",
     "shell.execute_reply.started": "2024-08-22T19:28:56.236892Z"
    },
    "trusted": true
   },
   "outputs": [
    {
     "name": "stderr",
     "output_type": "stream",
     "text": [
      "Setting `pad_token_id` to `eos_token_id`:128001 for open-end generation.\n"
     ]
    },
    {
     "name": "stdout",
     "output_type": "stream",
     "text": [
      "Answer: How to diagnose Parasites - Cysticercosis? If you think that you may have cysticercosis, please see your health care provider. Your health care provider will ask you about your symptoms, where you have travelled, and what kinds of foods you eat. The diagnosis of neurocysticercosis usually requires MRI or CT brain scans. Blood tests may be useful to help diagnose an infection, but they may not always be positive in light infections.\n",
      "  \n",
      "If you have been diagnosed with cysticercosis, you and your family members should be tested for intestinal tapeworm infection. See the taeniasis section for more information on intestinal tapeworm infections.  \n",
      "  \n",
      "More on: Taeniasis\n",
      "  \n",
      "More on: Resources for Health Professionals: Diagnosis Cysticercosis is an infection caused by the larvae of the parasite Taenia solium.  This infection occurs after a person swallows tapeworm eggs. The larvae get into tissues such as muscle and brain, and form cysts there (these are called cysticerci). When cysts are found in the brain, the condition is called neurocysticercosis. The presence of a cyst-like mass in a person with a history of exposure to sheepdogs in an endemic area should be considered as a possible case of cysticercosis. The most common presentation is seizures. Symptoms of neurocysticercosis are often caused by the cysts in the brain. They may include seizures, headaches, and vomiting\n"
     ]
    }
   ],
   "source": [
    "# Example usage\n",
    "question = \"How to diagnose Parasites - Cysticercosis ?\"\n",
    "answer = rag_pipeline_chroma(question, collection, model, tokenizer)\n",
    "print(\"Answer:\", answer)"
   ]
  },
  {
   "cell_type": "code",
   "execution_count": 22,
   "metadata": {
    "execution": {
     "iopub.execute_input": "2024-08-22T19:33:39.184456Z",
     "iopub.status.busy": "2024-08-22T19:33:39.183376Z",
     "iopub.status.idle": "2024-08-22T19:33:58.950731Z",
     "shell.execute_reply": "2024-08-22T19:33:58.949519Z",
     "shell.execute_reply.started": "2024-08-22T19:33:39.184413Z"
    },
    "trusted": true
   },
   "outputs": [
    {
     "name": "stderr",
     "output_type": "stream",
     "text": [
      "Setting `pad_token_id` to `eos_token_id`:128001 for open-end generation.\n"
     ]
    },
    {
     "name": "stdout",
     "output_type": "stream",
     "text": [
      "Answer: How to prevent Marburg hemorrhagic fever (Marburg HF)? There is no specific treatment for Marburg hemorrhagic fever. Supportive hospital therapy should be utilized, which includes balancing the patient's fluids and electrolytes, maintaining oxygen status and blood pressure, replacing lost blood and clotting factors, and treatment for any complicating infections. \n",
      " \n",
      "Experimental treatments are validated in non-human primates models, but have never been tried in humans. Preventive measures against Marburg virus infection are not well defined, as transmission from wildlife to humans remains an area of ongoing research. However, avoiding fruit bats, and sick non-human primates in central Africa, is one way to protect against infection. \n",
      " \n",
      "Measures for prevention of secondary, or person-to-person, transmission are similar to those used for other hemorrhagic fevers. If a patient is either suspected or confirmed to have Marburg hemorrhagic fever, barrier nursing techniques should be used to prevent direct physical contact with the patient. These precautions include wearing of protective gowns, gloves, and masks; placing the infected individual in strict isolation; and sterilization or proper disposal of needles, equipment, and patient excretions. \n",
      " \n",
      "In conjunction with the World Health Organization, CDC has developed practical, hospital-based guidelines, titled: Infection Control for Viral Hemorrhagic Fevers in the African Health Care Setting. These guidelines are available on the World Health Organization's website, and can be used by healthcare professionals to develop and implement infection control measures to prevent the spread of Marburg\n"
     ]
    }
   ],
   "source": [
    "# Example usage\n",
    "question = \"How to prevent Marburg hemorrhagic fever (Marburg HF) ?\"\n",
    "answer = rag_pipeline_chroma(question, collection, model, tokenizer)\n",
    "print(\"Answer:\", answer)"
   ]
  },
  {
   "cell_type": "code",
   "execution_count": null,
   "metadata": {},
   "outputs": [],
   "source": []
  }
 ],
 "metadata": {
  "kaggle": {
   "accelerator": "tpu1vmV38",
   "dataSources": [],
   "dockerImageVersionId": 30763,
   "isGpuEnabled": false,
   "isInternetEnabled": true,
   "language": "python",
   "sourceType": "notebook"
  },
  "kernelspec": {
   "display_name": "Python 3",
   "language": "python",
   "name": "python3"
  },
  "language_info": {
   "codemirror_mode": {
    "name": "ipython",
    "version": 3
   },
   "file_extension": ".py",
   "mimetype": "text/x-python",
   "name": "python",
   "nbconvert_exporter": "python",
   "pygments_lexer": "ipython3",
   "version": "3.10.14"
  }
 },
 "nbformat": 4,
 "nbformat_minor": 4
}
