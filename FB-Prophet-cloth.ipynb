{
 "cells": [
  {
   "cell_type": "code",
   "execution_count": 1,
   "id": "5c8e8b48",
   "metadata": {},
   "outputs": [],
   "source": [
    "import pandas as pd\n",
    "from prophet import Prophet"
   ]
  },
  {
   "cell_type": "code",
   "execution_count": 2,
   "id": "f7ee596f",
   "metadata": {},
   "outputs": [],
   "source": [
    "# Load your dataset\n",
    "df = pd.read_csv('STR Detail Report.csv')  # Ensure the path is correct and the file exists\n"
   ]
  },
  {
   "cell_type": "code",
   "execution_count": 3,
   "id": "4ff1bbc3",
   "metadata": {},
   "outputs": [],
   "source": [
    "# Check if 'Product Code' and 'Color' columns exist\n",
    "if 'Product Code' in df.columns and 'Color' in df.columns:\n",
    "    # Create the n+c column using Product Code and Color\n",
    "    df['n+c'] = df['Product Code'].astype(str) + '-' + df['Color'].str.upper()\n",
    "else:\n",
    "    raise ValueError(\"Columns 'Product Code' and/or 'Color' do not exist in the dataset\")\n"
   ]
  },
  {
   "cell_type": "code",
   "execution_count": 4,
   "id": "1f1680b7",
   "metadata": {},
   "outputs": [],
   "source": [
    "# Filter the necessary columns\n",
    "filtered_df = df[['STR Date', 'n+c', 'Received Shop', 'STR Qty']]\n"
   ]
  },
  {
   "cell_type": "code",
   "execution_count": 5,
   "id": "a37f68e1",
   "metadata": {},
   "outputs": [
    {
     "name": "stderr",
     "output_type": "stream",
     "text": [
      "/tmp/ipykernel_12374/2316988215.py:2: SettingWithCopyWarning: \n",
      "A value is trying to be set on a copy of a slice from a DataFrame.\n",
      "Try using .loc[row_indexer,col_indexer] = value instead\n",
      "\n",
      "See the caveats in the documentation: https://pandas.pydata.org/pandas-docs/stable/user_guide/indexing.html#returning-a-view-versus-a-copy\n",
      "  filtered_df['STR Date'] = pd.to_datetime(filtered_df['STR Date'], errors='coerce')\n"
     ]
    }
   ],
   "source": [
    "# Convert 'STR Date' to datetime\n",
    "filtered_df['STR Date'] = pd.to_datetime(filtered_df['STR Date'], errors='coerce')\n",
    "\n"
   ]
  },
  {
   "cell_type": "code",
   "execution_count": 6,
   "id": "2a046bd8",
   "metadata": {},
   "outputs": [
    {
     "name": "stdout",
     "output_type": "stream",
     "text": [
      "Null values counts:\n",
      " STR Date     1\n",
      "STR Qty     34\n",
      "dtype: int64\n"
     ]
    }
   ],
   "source": [
    "# Check for null values in 'STR Date' and 'STR Qty' columns\n",
    "null_counts = filtered_df[['STR Date', 'STR Qty']].isnull().sum()\n",
    "print(\"Null values counts:\\n\", null_counts)\n"
   ]
  },
  {
   "cell_type": "code",
   "execution_count": 7,
   "id": "2891399c",
   "metadata": {},
   "outputs": [],
   "source": [
    "# Filter out rows with null values in 'STR Date' or 'STR Qty'\n",
    "filtered_df = filtered_df.dropna(subset=['STR Date', 'STR Qty'])\n"
   ]
  },
  {
   "cell_type": "code",
   "execution_count": 8,
   "id": "1f97088e",
   "metadata": {},
   "outputs": [
    {
     "name": "stdout",
     "output_type": "stream",
     "text": [
      "Number of non-null rows in filtered_df: 193142\n"
     ]
    }
   ],
   "source": [
    "# Number of non-null rows\n",
    "non_null_count = len(filtered_df)\n",
    "print(\"Number of non-null rows in filtered_df:\", non_null_count)\n"
   ]
  },
  {
   "cell_type": "code",
   "execution_count": 9,
   "id": "cd4ae914",
   "metadata": {},
   "outputs": [],
   "source": [
    "# Rename columns for Prophet\n",
    "filtered_df.rename(columns={'STR Date': 'ds', 'STR Qty': 'y'}, inplace=True)\n"
   ]
  },
  {
   "cell_type": "code",
   "execution_count": 10,
   "id": "44a9b084",
   "metadata": {},
   "outputs": [],
   "source": [
    "# One-hot encode 'n+c' and 'Received Shop' columns\n",
    "filtered_df = pd.get_dummies(filtered_df, columns=['n+c', 'Received Shop'])"
   ]
  },
  {
   "cell_type": "code",
   "execution_count": 11,
   "id": "ee19da32",
   "metadata": {},
   "outputs": [],
   "source": [
    "# Initialize a Prophet model\n",
    "model = Prophet()"
   ]
  },
  {
   "cell_type": "code",
   "execution_count": 12,
   "id": "971ef159",
   "metadata": {},
   "outputs": [],
   "source": [
    "# Add regressors\n",
    "for column in filtered_df.columns:\n",
    "    if column.startswith('n+c_') or column.startswith('Received Shop_'):\n",
    "        model.add_regressor(column)\n"
   ]
  },
  {
   "cell_type": "code",
   "execution_count": null,
   "id": "933adc91",
   "metadata": {},
   "outputs": [],
   "source": [
    "# Fit the model\n",
    "model.fit(filtered_df)"
   ]
  },
  {
   "cell_type": "code",
   "execution_count": null,
   "id": "5975893a",
   "metadata": {},
   "outputs": [],
   "source": [
    "# Create a DataFrame with future dates (e.g., for the next 30 days)\n",
    "future_dates = pd.date_range(start=filtered_df['ds'].max(), periods=30, freq='D')\n",
    "future = pd.DataFrame({'ds': future_dates})"
   ]
  },
  {
   "cell_type": "code",
   "execution_count": null,
   "id": "c92fbbdf",
   "metadata": {},
   "outputs": [],
   "source": [
    "# Get unique values for 'n+c' and 'Received Shop' to create future DataFrame\n",
    "unique_n_c = filtered_df.filter(like='n+c_').columns\n",
    "unique_received_shop = filtered_df.filter(like='Received Shop_').columns"
   ]
  },
  {
   "cell_type": "code",
   "execution_count": null,
   "id": "d3ec209a",
   "metadata": {},
   "outputs": [],
   "source": [
    "# Initialize future DataFrame with zeros for one-hot encoded columns\n",
    "for column in unique_n_c:\n",
    "    future[column] = 0\n",
    "for column in unique_received_shop:\n",
    "    future[column] = 0"
   ]
  },
  {
   "cell_type": "code",
   "execution_count": null,
   "id": "6b7de81f",
   "metadata": {},
   "outputs": [],
   "source": [
    "# Example assignment for future predictions (use actual logic instead)\n",
    "future.loc[:, unique_n_c[0]] = 1  # Replace with your logic\n",
    "future.loc[:, unique_received_shop[0]] = 1  # Replace with your logic"
   ]
  },
  {
   "cell_type": "code",
   "execution_count": null,
   "id": "901d89ab",
   "metadata": {},
   "outputs": [],
   "source": [
    "# Make future predictions\n",
    "forecast = model.predict(future)"
   ]
  },
  {
   "cell_type": "code",
   "execution_count": null,
   "id": "d81e8a4a",
   "metadata": {},
   "outputs": [],
   "source": [
    "# Display the forecasted values\n",
    "print(forecast[['ds', 'yhat', 'yhat_lower', 'yhat_upper']])"
   ]
  },
  {
   "cell_type": "code",
   "execution_count": null,
   "id": "b12f0079",
   "metadata": {},
   "outputs": [],
   "source": []
  }
 ],
 "metadata": {
  "kernelspec": {
   "display_name": "Python 3 (ipykernel)",
   "language": "python",
   "name": "python3"
  },
  "language_info": {
   "codemirror_mode": {
    "name": "ipython",
    "version": 3
   },
   "file_extension": ".py",
   "mimetype": "text/x-python",
   "name": "python",
   "nbconvert_exporter": "python",
   "pygments_lexer": "ipython3",
   "version": "3.9.18"
  }
 },
 "nbformat": 4,
 "nbformat_minor": 5
}
