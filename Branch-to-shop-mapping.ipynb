{
 "cells": [
  {
   "cell_type": "code",
   "execution_count": null,
   "metadata": {},
   "outputs": [],
   "source": [
    "import pandas as pd\n",
    "\n",
    "# Load the datasets\n",
    "df_branches = pd.read_csv('Mariab_all_branches - Sheet1.csv')\n",
    "df_sample = pd.read_csv('SampleFile2.csv')\n",
    "\n",
    "# Create a dictionary to map 'Branch Name' to 'Shop'\n",
    "branch_to_shop = {}\n",
    "\n",
    " #Loop through the 'Branch Name' column and find matches in the 'Shop' column\n",
    "for branch_name in df_branches['Branch Name']:\n",
    "    shop_match = df_sample[df_sample['Shop'] == branch_name]\n",
    "    if not shop_match.empty:\n",
    "        branch_to_shop[branch_name] = shop_match['Shop'].values[0]\n",
    "# Display the resulting dictionary\n",
    "print(branch_to_shop)"
   ]
  },
  {
   "cell_type": "markdown",
   "metadata": {},
   "source": [
    "we need to consider cases where there are not exact matches as well"
   ]
  },
  {
   "cell_type": "code",
   "execution_count": 3,
   "metadata": {},
   "outputs": [
    {
     "name": "stderr",
     "output_type": "stream",
     "text": [
      "C:\\Users\\AbdulRafay\\AppData\\Local\\Temp\\ipykernel_21632\\3970606611.py:6: DtypeWarning: Columns (21) have mixed types. Specify dtype option on import or set low_memory=False.\n",
      "  df_sample = pd.read_csv('SampleFile2.csv')\n"
     ]
    },
    {
     "name": "stdout",
     "output_type": "stream",
     "text": [
      "Mapping saved to branch_to_shop_mapping.csv\n"
     ]
    }
   ],
   "source": [
    "import pandas as pd\n",
    "from fuzzywuzzy import process\n",
    "\n",
    "# Load the datasets\n",
    "df_branches = pd.read_csv('Mariab_all_branches - Sheet1.csv')\n",
    "df_sample = pd.read_csv('SampleFile2.csv')\n",
    "\n",
    "# Normalize the names by stripping whitespace and converting to lowercase for comparison\n",
    "df_branches['Branch Name'] = df_branches['Branch Name'].str.strip().str.lower()\n",
    "df_sample['Shop'] = df_sample['Shop'].str.strip().str.lower()\n",
    "\n",
    "# Create a dictionary to map 'Branch Name' to 'Shop'\n",
    "branch_to_shop = {}\n",
    "\n",
    "# Use fuzzy matching to map branch names to shops\n",
    "for branch_name in df_branches['Branch Name']:\n",
    "    match, score, _ = process.extractOne(branch_name, df_sample['Shop'])\n",
    "    if score >= 80:  # You can adjust this threshold based on your requirement\n",
    "        branch_to_shop[branch_name] = match\n",
    "\n",
    "# Convert the dictionary to a DataFrame\n",
    "branch_to_shop_df = pd.DataFrame(list(branch_to_shop.items()), columns=['Branch Name', 'Shop'])\n",
    "\n",
    "# Save the DataFrame to a CSV file\n",
    "output_file_path = 'branch_to_shop_mapping.csv'\n",
    "branch_to_shop_df.to_csv(output_file_path, index=False)\n",
    "\n",
    "print(f\"Mapping saved to {output_file_path}\")"
   ]
  },
  {
   "cell_type": "code",
   "execution_count": null,
   "metadata": {},
   "outputs": [],
   "source": [
    "# Displaying the branch-to-shop mapping\n",
    "print(branch_to_shop_df)\n",
    "branch_name = input(\"Enter branch name: \")"
   ]
  },
  {
   "cell_type": "markdown",
   "metadata": {},
   "source": [
    "Combine exact and non exact mapping in a single dictionary"
   ]
  },
  {
   "cell_type": "code",
   "execution_count": 5,
   "metadata": {},
   "outputs": [
    {
     "name": "stderr",
     "output_type": "stream",
     "text": [
      "C:\\Users\\AbdulRafay\\AppData\\Local\\Temp\\ipykernel_5176\\676948816.py:6: DtypeWarning: Columns (21) have mixed types. Specify dtype option on import or set low_memory=False.\n",
      "  df_sample = pd.read_csv('SampleFile2.csv')\n"
     ]
    },
    {
     "name": "stdout",
     "output_type": "stream",
     "text": [
      "Mapping saved to branch_to_shop_mapping4.csv\n"
     ]
    }
   ],
   "source": [
    "import pandas as pd\n",
    "from fuzzywuzzy import process\n",
    "\n",
    "# Load the datasets\n",
    "df_branches = pd.read_csv('Mariab_all_branches - Sheet1.csv')\n",
    "df_sample = pd.read_csv('SampleFile2.csv')\n",
    "\n",
    "# Normalize the names by stripping whitespace and converting to lowercase for comparison\n",
    "df_branches['Branch Name'] = df_branches['Branch Name'].str.strip().str.lower()\n",
    "df_sample['Shop'] = df_sample['Shop'].str.strip().str.lower()\n",
    "\n",
    "# Create a dictionary to map 'Branch Name' to 'Shop'\n",
    "branch_to_shop = {}\n",
    "\n",
    "# First, add exact matches to the dictionary\n",
    "for branch_name in df_branches['Branch Name']:\n",
    "    if branch_name in df_sample['Shop'].values:\n",
    "        branch_to_shop[branch_name] = branch_name\n",
    "\n",
    "# Use fuzzy matching to find matches for remaining branch names\n",
    "for branch_name in df_branches['Branch Name']:\n",
    "    if branch_name not in branch_to_shop:\n",
    "        match, score, _ = process.extractOne(branch_name, df_sample['Shop'])\n",
    "        if score >= 90:  # You can adjust this threshold based on your requirement\n",
    "            branch_to_shop[branch_name] = match\n",
    "\n",
    "# Convert the dictionary to a DataFrame\n",
    "branch_to_shop_df = pd.DataFrame(list(branch_to_shop.items()), columns=['Branch Name', 'Shop'])\n",
    "\n",
    "# Save the DataFrame to a CSV file\n",
    "output_file_path = 'branch_to_shop_mapping4.csv'\n",
    "branch_to_shop_df.to_csv(output_file_path, index=False)\n",
    "\n",
    "print(f\"Mapping saved to {output_file_path}\")\n"
   ]
  },
  {
   "cell_type": "code",
   "execution_count": null,
   "metadata": {},
   "outputs": [],
   "source": []
  }
 ],
 "metadata": {
  "kernelspec": {
   "display_name": "myenv",
   "language": "python",
   "name": "python3"
  },
  "language_info": {
   "codemirror_mode": {
    "name": "ipython",
    "version": 3
   },
   "file_extension": ".py",
   "mimetype": "text/x-python",
   "name": "python",
   "nbconvert_exporter": "python",
   "pygments_lexer": "ipython3",
   "version": "3.9.18"
  }
 },
 "nbformat": 4,
 "nbformat_minor": 2
}
